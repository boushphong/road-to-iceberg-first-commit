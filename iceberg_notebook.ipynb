{
 "cells": [
  {
   "cell_type": "code",
   "execution_count": 1,
   "id": "1738835e-e4e3-4bcf-bcf9-eb023dbdc0bf",
   "metadata": {
    "is_executing": true
   },
   "outputs": [
    {
     "data": {
      "text/plain": [
       "\u001b[36msparkVersion\u001b[39m: \u001b[32mString\u001b[39m = \u001b[32m\"3.4.1\"\u001b[39m\n",
       "\u001b[36micebergVersion\u001b[39m: \u001b[32mString\u001b[39m = \u001b[32m\"1.4.1\"\u001b[39m\n",
       "\u001b[36mjacksonVersion\u001b[39m: \u001b[32mString\u001b[39m = \u001b[32m\"2.14.3\"\u001b[39m\n",
       "\u001b[32mimport \u001b[39m\u001b[36m$ivy.$\u001b[39m\n",
       "\u001b[32mimport \u001b[39m\u001b[36m$ivy.$\u001b[39m\n",
       "\u001b[32mimport \u001b[39m\u001b[36m$ivy.$\u001b[39m\n",
       "\u001b[32mimport \u001b[39m\u001b[36m$ivy.$\u001b[39m\n",
       "\u001b[32mimport \u001b[39m\u001b[36m$ivy.$\u001b[39m\n",
       "\u001b[32mimport \u001b[39m\u001b[36m$ivy.$\u001b[39m\n",
       "\u001b[32mimport \u001b[39m\u001b[36m$ivy.$\u001b[39m\n",
       "\u001b[32mimport \u001b[39m\u001b[36m$ivy.$\u001b[39m"
      ]
     },
     "execution_count": 1,
     "metadata": {},
     "output_type": "execute_result"
    }
   ],
   "source": [
    "val sparkVersion = \"3.4.1\"\n",
    "val icebergVersion = \"1.4.1\"\n",
    "val jacksonVersion = \"2.14.3\"\n",
    "\n",
    "import $ivy.`org.apache.spark::spark-core:3.4.1`\n",
    "import $ivy.`org.apache.spark::spark-sql:3.4.1`\n",
    "import $ivy.`org.apache.iceberg:iceberg-core:1.4.1`\n",
    "import $ivy.`org.apache.iceberg::iceberg-spark-3.4:1.4.1`\n",
    "import $ivy.`org.apache.iceberg::iceberg-spark-runtime-3.4:1.4.1`\n",
    "import $ivy.`org.apache.iceberg:iceberg-aws:1.4.1`\n",
    "import $ivy.`org.apache.iceberg:iceberg-aws-bundle:1.4.1`\n",
    "import $ivy.`org.postgresql:postgresql:42.5.4`"
   ]
  },
  {
   "cell_type": "code",
   "execution_count": 2,
   "id": "851669ff-9ae9-4f1f-bcb8-362318713bd3",
   "metadata": {},
   "outputs": [
    {
     "data": {
      "text/plain": [
       "\u001b[32mimport \u001b[39m\u001b[36morg.apache.spark.SparkConf\u001b[39m\n",
       "\u001b[32mimport \u001b[39m\u001b[36morg.apache.spark.sql.SparkSession\u001b[39m"
      ]
     },
     "execution_count": 2,
     "metadata": {},
     "output_type": "execute_result"
    }
   ],
   "source": [
    "import org.apache.spark.SparkConf\n",
    "import org.apache.spark.sql.SparkSession"
   ]
  },
  {
   "cell_type": "code",
   "execution_count": 3,
   "id": "c7fe219d-9ca9-4e20-9f45-02e5449c2835",
   "metadata": {},
   "outputs": [
    {
     "name": "stderr",
     "output_type": "stream",
     "text": [
      "Using Spark's default log4j profile: org/apache/spark/log4j2-defaults.properties\n",
      "23/11/01 23:16:12 WARN Utils: Your hostname, linux resolves to a loopback address: 127.0.1.1; using 192.168.102.2 instead (on interface enp5s0)\n",
      "23/11/01 23:16:12 WARN Utils: Set SPARK_LOCAL_IP if you need to bind to another address\n"
     ]
    },
    {
     "data": {
      "text/plain": [
       "\u001b[36msparkConf\u001b[39m: \u001b[32mSparkConf\u001b[39m = org.apache.spark.SparkConf@336bfede"
      ]
     },
     "execution_count": 3,
     "metadata": {},
     "output_type": "execute_result"
    }
   ],
   "source": [
    "val sparkConf = new SparkConf()\n",
    "    .setAppName(\"Iceberg Spark Job\")\n",
    "    .setMaster(\"local\")\n",
    "    .set(\"spark.sql.defaultCatalog\", \"iceberg_catalog\")\n",
    "    .set(\"spark.sql.catalogImplementation\", \"in-memory\")\n",
    "    .set(\"spark.sql.extensions\", \"org.apache.iceberg.spark.extensions.IcebergSparkSessionExtensions\")\n",
    "    .set(\"spark.sql.catalog.iceberg_catalog\", \"org.apache.iceberg.spark.SparkCatalog\")\n",
    "    .set(\"spark.sql.catalog.iceberg_catalog.catalog-impl\", \"org.apache.iceberg.jdbc.JdbcCatalog\")\n",
    "    .set(\"spark.sql.catalog.iceberg_catalog.uri\", \"jdbc:postgresql://127.0.0.1:5432/postgres\")\n",
    "    .set(\"spark.sql.catalog.iceberg_catalog.jdbc.user\", \"postgres\")\n",
    "    .set(\"spark.sql.catalog.iceberg_catalog.jdbc.password\", \"postgres\")\n",
    "    .set(\"spark.sql.catalog.iceberg_catalog.jdbc.verifyServerCertificate\", \"true\")\n",
    "    .set(\"spark.sql.catalog.iceberg_catalog.jdbc.useSSL\", \"true\")\n",
    "    .set(\"spark.sql.catalog.iceberg_catalog.io-impl\", \"org.apache.iceberg.aws.s3.S3FileIO\")\n",
    "    .set(\"spark.sql.catalog.iceberg_catalog.warehouse\", \"s3://warehouse/\")\n",
    "    .set(\"spark.sql.catalog.iceberg_catalog.s3.endpoint\", \"http://127.0.0.1:9000\")"
   ]
  },
  {
   "cell_type": "code",
   "execution_count": null,
   "id": "08bb4181",
   "metadata": {},
   "outputs": [],
   "source": [
    "val spark = SparkSession.builder.config(sparkConf).getOrCreate()"
   ]
  }
 ],
 "metadata": {
  "kernelspec": {
   "display_name": "Scala",
   "language": "scala",
   "name": "scala"
  },
  "language_info": {
   "codemirror_mode": "text/x-scala",
   "file_extension": ".sc",
   "mimetype": "text/x-scala",
   "name": "scala",
   "nbconvert_exporter": "script",
   "version": "2.12.18"
  }
 },
 "nbformat": 4,
 "nbformat_minor": 5
}
