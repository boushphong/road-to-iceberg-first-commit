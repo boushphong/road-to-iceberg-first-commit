{
 "cells": [
  {
   "cell_type": "code",
   "execution_count": null,
   "outputs": [],
   "source": [
    "val sparkVersion = \"3.4.1\"\n",
    "val icebergVersion = \"1.4.1\"\n",
    "val jacksonVersion = \"2.14.3\"\n",
    "\n",
    "import $ivy.`org.apache.spark::spark-core:3.4.1`\n",
    "import $ivy.`org.apache.spark::spark-sql:3.4.1`\n",
    "import $ivy.`org.apache.iceberg:iceberg-core:1.4.1`\n",
    "import $ivy.`org.apache.iceberg::iceberg-spark-3.4:1.4.1`\n",
    "import $ivy.`org.apache.iceberg::iceberg-spark-runtime-3.4:1.4.1`\n",
    "import $ivy.`org.apache.iceberg:iceberg-aws:1.4.1`\n",
    "import $ivy.`org.apache.iceberg:iceberg-aws-bundle:1.4.1`\n",
    "import $ivy.`org.postgresql:postgresql:42.5.4`"
   ],
   "metadata": {
    "collapsed": false
   },
   "id": "ef7b6171f733929b"
  },
  {
   "cell_type": "code",
   "execution_count": null,
   "outputs": [],
   "source": [
    "import org.apache.spark.SparkConf\n",
    "import org.apache.spark.sql.SparkSession"
   ],
   "metadata": {
    "collapsed": false
   },
   "id": "8160e19b47607d4c"
  },
  {
   "cell_type": "code",
   "execution_count": null,
   "outputs": [],
   "source": [
    "val sparkConf = new SparkConf()\n",
    "  .setAppName(\"Iceberg Spark Job\")\n",
    "  .setMaster(\"local\")\n",
    "  .set(\"spark.sql.defaultCatalog\", \"iceberg_catalog\")\n",
    "  .set(\"spark.sql.catalogImplementation\", \"in-memory\")\n",
    "  .set(\"spark.sql.extensions\", \"org.apache.iceberg.spark.extensions.IcebergSparkSessionExtensions\")\n",
    "  .set(\"spark.sql.catalog.iceberg_catalog\", \"org.apache.iceberg.spark.SparkCatalog\")\n",
    "  .set(\"spark.sql.catalog.iceberg_catalog.catalog-impl\", \"org.apache.iceberg.jdbc.JdbcCatalog\")\n",
    "  .set(\"spark.sql.catalog.iceberg_catalog.uri\", \"jdbc:postgresql://127.0.0.1:5432/postgres\")\n",
    "  .set(\"spark.sql.catalog.iceberg_catalog.jdbc.user\", \"postgres\")\n",
    "  .set(\"spark.sql.catalog.iceberg_catalog.jdbc.password\", \"postgres\")\n",
    "  .set(\"spark.sql.catalog.iceberg_catalog.jdbc.verifyServerCertificate\", \"true\")\n",
    "  .set(\"spark.sql.catalog.iceberg_catalog.jdbc.useSSL\", \"true\")\n",
    "  .set(\"spark.sql.catalog.iceberg_catalog.io-impl\", \"org.apache.iceberg.aws.s3.S3FileIO\")\n",
    "  .set(\"spark.sql.catalog.iceberg_catalog.warehouse\", \"s3://warehouse/\")\n",
    "  .set(\"spark.sql.catalog.iceberg_catalog.s3.endpoint\", \"http://127.0.0.1:9000\")"
   ],
   "metadata": {
    "collapsed": false
   },
   "id": "d5cd25147919230f"
  },
  {
   "cell_type": "code",
   "execution_count": null,
   "outputs": [],
   "source": [
    "val spark = SparkSession.builder.config(sparkConf).getOrCreate()"
   ],
   "metadata": {
    "collapsed": false
   },
   "id": "8d4591fb578770ab"
  },
  {
   "cell_type": "code",
   "execution_count": null,
   "outputs": [],
   "source": [],
   "metadata": {
    "collapsed": false
   },
   "id": "eea2e6f06b07286e"
  }
 ],
 "metadata": {
  "kernelspec": {
   "display_name": "Scala",
   "language": "scala",
   "name": "scala"
  },
  "language_info": {
   "codemirror_mode": "text/x-scala",
   "file_extension": ".sc",
   "mimetype": "text/x-scala",
   "name": "scala",
   "nbconvert_exporter": "script",
   "version": "2.12.18"
  }
 },
 "nbformat": 4,
 "nbformat_minor": 5
}
